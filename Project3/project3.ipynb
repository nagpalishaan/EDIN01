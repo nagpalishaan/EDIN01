{
 "cells": [
  {
   "attachments": {},
   "cell_type": "markdown",
   "metadata": {},
   "source": [
    "# Project 3\n",
    "### By Ishaan Nagpal and Cameron Schofield\n",
    "### Working hours: 9 hours\n",
    "## Exercise 1"
   ]
  },
  {
   "cell_type": "code",
   "execution_count": 1,
   "metadata": {},
   "outputs": [
    {
     "name": "stdout",
     "output_type": "stream",
     "text": [
      "0.766839378238342\n",
      "0.7305699481865284\n",
      "0.7616580310880829\n",
      "[1, 1, 1, 0, 0, 0, 0, 1, 0, 0, 1, 1, 1]\n",
      "[1, 0, 1, 0, 1, 1, 0, 1, 0, 1, 1, 0, 0, 0, 0]\n",
      "[1, 1, 1, 0, 0, 0, 0, 0, 0, 0, 0, 0, 1, 1, 1, 0, 0]\n"
     ]
    }
   ],
   "source": [
    "# Hamming distance between x and y\n",
    "def hamming(x, y):\n",
    "    d = 0\n",
    "\n",
    "    # Count number of mismatches\n",
    "    for x_i, y_i in zip(x, y):\n",
    "        if x_i != y_i:\n",
    "            d += 1\n",
    "\n",
    "    return d    \n",
    "\n",
    "\n",
    "# LFSR with coefficients c and initial state s\n",
    "def LFSR(c, s, L, N):\n",
    "    # Generate first N states\n",
    "    while len(s) != N:\n",
    "        # Calculate next state\n",
    "        next_state = 0\n",
    "        for i in range(L):\n",
    "            next_state -= c[i] * s[len(s)-i-1]\n",
    "        \n",
    "        next_state %= 2\n",
    "\n",
    "        s += [next_state]\n",
    "\n",
    "    return s\n",
    "\n",
    "# G\n",
    "def generate(z, c):\n",
    "    L = len(c)\n",
    "    N = len(z)\n",
    "    \n",
    "    # Store minimum probability and state that achievee it\n",
    "    min_p = 1\n",
    "    min_s = []\n",
    "\n",
    "    # Test all possible starting states\n",
    "    for k in range(pow(2, L)):\n",
    "        # Convert integer k to bit string\n",
    "        b = format(k, \"b\").zfill(L)\n",
    "        # Create initial state array\n",
    "        s = []\n",
    "        for char in b:\n",
    "            if char == \"0\":\n",
    "                s.append(0)\n",
    "            else:\n",
    "                s.append(1)\n",
    "        \n",
    "        # Compute first N states using LFSR\n",
    "        u = LFSR(c, s, L, N)\n",
    "\n",
    "        # Compute probability\n",
    "        p = hamming(u, z) / N\n",
    "\n",
    "        # Find minimum probability\n",
    "        if p <= min_p:\n",
    "            min_p = p\n",
    "            min_s = s\n",
    "    \n",
    "    # Print probability of minimizing state\n",
    "    print(1 - min_p)\n",
    "    return min_s\n",
    "\n",
    "\n",
    "if __name__ == '__main__':\n",
    "    # Keystream, convert to array\n",
    "    z_txt = \"1110000100101110110001101001000110010000010100110101100101101011110100010001001010110010111111011011000100011011001101011110110111110000111001101011001111110010110000111011010011011111111011001\"\n",
    "    z = []\n",
    "    for char in z_txt:\n",
    "        z.append(int(char))\n",
    "    \n",
    "    # Coefficients for each LFSR\n",
    "    c1 = [1, 1, 0, 1, 0, 1, 1, 0, 0, 1, 1, 0, 1]\n",
    "    c2 = [0, 1, 0, 1, 0, 1, 1, 0, 0, 1, 1, 0, 1, 0, 1]\n",
    "    c3 = [0, 1, 0, 1, 1, 0, 0, 1, 0, 1, 0, 0, 1, 0, 0, 1, 1]\n",
    "\n",
    "    # Generate first N (length of keystream) states from each LFSR\n",
    "    t1 = generate(z, c1)\n",
    "    t2 = generate(z, c2)\n",
    "    t3 = generate(z, c3)\n",
    "\n",
    "    # Print starting states for each LFSR\n",
    "    print(t1[:13])\n",
    "    print(t2[:15])\n",
    "    print(t3[:17])\n",
    "\n",
    "    # Check for errors\n",
    "    for i1, i2, i3, x in zip(t1, t2, t3, z):\n",
    "        if i1 + i2 + i3 >= 2:\n",
    "            if x == 0:\n",
    "                print(\"wrong\")\n",
    "        else:\n",
    "            if x == 1:\n",
    "                print(\"wrong\")\n"
   ]
  },
  {
   "attachments": {},
   "cell_type": "markdown",
   "metadata": {},
   "source": [
    "#### Initial states of the 3 LFSRs\n",
    "$K = \\left(1110000100111, 101011010110000, 11100000000011100 \\right)$"
   ]
  },
  {
   "attachments": {},
   "cell_type": "markdown",
   "metadata": {},
   "source": [
    "#### Maximized probabilities for initial states\n",
    "1: 0.766839378238342  \n",
    "2: 0.7305699481865284  \n",
    "3: 0.7616580310880829  \n"
   ]
  },
  {
   "cell_type": "markdown",
   "metadata": {},
   "source": [
    "## Exercise 2\n",
    "It takes T seconds to check $2^{13}+2^{15}+2^{17}$ initial states in our attack. It takes $2^{45}$ checks to do exhaustive search over the entire keyspace. This means it takes $\\frac{2^{45}}{2^{13}+2^{15}+2^{17}}*T$ seconds for exhaustive search."
   ]
  }
 ],
 "metadata": {
  "kernelspec": {
   "display_name": "Python 3",
   "language": "python",
   "name": "python3"
  },
  "language_info": {
   "codemirror_mode": {
    "name": "ipython",
    "version": 3
   },
   "file_extension": ".py",
   "mimetype": "text/x-python",
   "name": "python",
   "nbconvert_exporter": "python",
   "pygments_lexer": "ipython3",
   "version": "3.11.3"
  },
  "vscode": {
   "interpreter": {
    "hash": "b0fa6594d8f4cbf19f97940f81e996739fb7646882a419484c72d19e05852a7e"
   }
  }
 },
 "nbformat": 4,
 "nbformat_minor": 2
}
